{
  "nbformat": 4,
  "nbformat_minor": 0,
  "metadata": {
    "colab": {
      "provenance": [],
      "authorship_tag": "ABX9TyO5o12AhUmm9WjRkcOSAu8Q",
      "include_colab_link": true
    },
    "kernelspec": {
      "name": "python3",
      "display_name": "Python 3"
    },
    "language_info": {
      "name": "python"
    }
  },
  "cells": [
    {
      "cell_type": "markdown",
      "metadata": {
        "id": "view-in-github",
        "colab_type": "text"
      },
      "source": [
        "<a href=\"https://colab.research.google.com/github/ayushiiii28/Manufacturing_Prediction/blob/main/manufacture_dataset.ipynb\" target=\"_parent\"><img src=\"https://colab.research.google.com/assets/colab-badge.svg\" alt=\"Open In Colab\"/></a>"
      ]
    },
    {
      "cell_type": "code",
      "execution_count": 1,
      "metadata": {
        "id": "YSPGLFchUJva"
      },
      "outputs": [],
      "source": [
        "import pandas as pd\n",
        "import random\n",
        "\n",
        "# Generate synthetic manufacturing data\n",
        "def generate_synthetic_data(num_samples=100):\n",
        "    data = {\n",
        "        \"Machine_ID\": [f\"Machine_{i}\" for i in range(1, num_samples + 1)],\n",
        "        \"Temperature\": [round(random.uniform(50, 100), 2) for _ in range(num_samples)],\n",
        "        \"Run_Time\": [round(random.uniform(10, 500), 2) for _ in range(num_samples)],\n",
        "        \"Downtime_Flag\": [random.choice([0, 1]) for _ in range(num_samples)],  # Binary outcome\n",
        "    }\n",
        "    return pd.DataFrame(data)\n",
        "\n",
        "# Save synthetic data to a CSV file\n",
        "synthetic_data = generate_synthetic_data(200)\n",
        "synthetic_data.to_csv(\"synthetic_manufacturing_data.csv\", index=False)\n"
      ]
    }
  ]
}